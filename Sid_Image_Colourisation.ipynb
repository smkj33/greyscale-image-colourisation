{
  "nbformat": 4,
  "nbformat_minor": 0,
  "metadata": {
    "colab": {
      "name": "Sid - Image Colourisation",
      "provenance": [],
      "collapsed_sections": [
        "QIfn5u6USs6h",
        "fuxq07GbM86s",
        "5t5OOssVA7yv"
      ],
      "machine_shape": "hm",
      "include_colab_link": true
    },
    "kernelspec": {
      "name": "python3",
      "display_name": "Python 3"
    },
    "accelerator": "GPU"
  },
  "cells": [
    {
      "cell_type": "markdown",
      "metadata": {
        "id": "view-in-github",
        "colab_type": "text"
      },
      "source": [
        "<a href=\"https://colab.research.google.com/github/smkj33/greyscale-image-colourisation/blob/master/Sid_Image_Colourisation.ipynb\" target=\"_parent\"><img src=\"https://colab.research.google.com/assets/colab-badge.svg\" alt=\"Open In Colab\"/></a>"
      ]
    },
    {
      "cell_type": "markdown",
      "metadata": {
        "id": "SRbpdjn-MnSU",
        "colab_type": "text"
      },
      "source": [
        "# Imports\n",
        "**Try** to keep Most of the imports in this cell"
      ]
    },
    {
      "cell_type": "code",
      "metadata": {
        "id": "YhE0qq34BP5D",
        "colab_type": "code",
        "outputId": "a5926511-7372-4233-8de8-fbac4c9e96b4",
        "colab": {
          "base_uri": "https://localhost:8080/",
          "height": 35
        }
      },
      "source": [
        "import torch\n",
        "import torchvision\n",
        "import torchvision.transforms as transforms\n",
        "from torchvision.utils import make_grid\n",
        "from torch.utils.data import Dataset, DataLoader\n",
        "\n",
        "import torch.optim as optim\n",
        "\n",
        "import torch.nn as nn\n",
        "import torch.nn.functional as F\n",
        "\n",
        "import matplotlib.pyplot as plt\n",
        "import numpy as np\n",
        "\n",
        "from skimage.transform import resize\n",
        "import scipy.ndimage.interpolation as sni\n",
        "from skimage import color, io\n",
        "\n",
        "# import cv2\n",
        "\n",
        "from PIL import Image\n",
        "\n",
        "import time\n",
        "\n",
        "device = torch.device(\"cuda:0\" if torch.cuda.is_available() else \"cpu\")\n",
        "print(\"Pytorch device: \" + str(device))"
      ],
      "execution_count": 1,
      "outputs": [
        {
          "output_type": "stream",
          "text": [
            "Pytorch device: cuda:0\n"
          ],
          "name": "stdout"
        }
      ]
    },
    {
      "cell_type": "markdown",
      "metadata": {
        "id": "k5tYoGvpMsx-",
        "colab_type": "text"
      },
      "source": [
        "# Mount Google Drive"
      ]
    },
    {
      "cell_type": "code",
      "metadata": {
        "id": "GcRQS7ZZBKXk",
        "colab_type": "code",
        "outputId": "487c06b3-f396-488d-c38c-b37c30bf5ae9",
        "colab": {
          "base_uri": "https://localhost:8080/",
          "height": 35
        }
      },
      "source": [
        "# this saves the model to your own Google Drive\n",
        "# once you run, you will have to follow a generated link and get the authorization code\n",
        "from google.colab import drive\n",
        "drive.mount('/content/gdrive')"
      ],
      "execution_count": 2,
      "outputs": [
        {
          "output_type": "stream",
          "text": [
            "Drive already mounted at /content/gdrive; to attempt to forcibly remount, call drive.mount(\"/content/gdrive\", force_remount=True).\n"
          ],
          "name": "stdout"
        }
      ]
    },
    {
      "cell_type": "markdown",
      "metadata": {
        "id": "nryzBDJeNJKB",
        "colab_type": "text"
      },
      "source": [
        "# Importing dataset (optional)\n"
      ]
    },
    {
      "cell_type": "code",
      "metadata": {
        "id": "Ewq6GfzprqPv",
        "colab_type": "code",
        "outputId": "1c10e373-dd81-4fe8-986d-9a4c17502ffe",
        "colab": {
          "base_uri": "https://localhost:8080/",
          "height": 55
        }
      },
      "source": [
        "\"\"\"\n",
        "Using the following commands, python connects to kaggle and\n",
        "the data set is downloaded in the colab environment.\n",
        "This will get deleted as soon as the instance is disconnected.\n",
        "To avoid this the data is permanently uploaded in my google drive\n",
        "\"\"\"\n",
        "\n",
        "# Using my Kaggle Token to import dataset.  \n",
        "\n",
        "# !mkdir ~/.kaggle\n",
        "# !touch ~/.kaggle/kaggle.json\n",
        "# api_token = {\"username\":\"smukherj\",\"key\":\"<---add latest key here--->\"}\n",
        "\n",
        "# import json\n",
        "# with open('/root/.kaggle/kaggle.json', 'w') as file:\n",
        "#     json.dump(api_token, file)\n",
        "\n",
        "# !chmod 600 ~/.kaggle/kaggle.json"
      ],
      "execution_count": 3,
      "outputs": [
        {
          "output_type": "execute_result",
          "data": {
            "text/plain": [
              "'\\nUsing the following commands, python connects to kaggle and\\nthe data set is downloaded in the colab environment.\\nThis will get deleted as soon as the instance is disconnected.\\nTo avoid this the data is permanently uploaded in my google drive\\n'"
            ]
          },
          "metadata": {
            "tags": []
          },
          "execution_count": 3
        }
      ]
    },
    {
      "cell_type": "code",
      "metadata": {
        "id": "J1ns_5DXz6oK",
        "colab_type": "code",
        "outputId": "87973123-97e0-4acf-bd5b-7d0b9bb99d0a",
        "colab": {
          "base_uri": "https://localhost:8080/",
          "height": 35
        }
      },
      "source": [
        "\"\"\"\n",
        "The following dataset is used:  \n",
        "https://www.kaggle.com/shravankumar9892/image-colorization#gray_scale.npy   \n",
        "\"\"\"\n",
        "\n",
        "# !kaggle datasets download -d shravankumar9892/image-colorization"
      ],
      "execution_count": 4,
      "outputs": [
        {
          "output_type": "execute_result",
          "data": {
            "text/plain": [
              "'\\nThe following dataset is used:  \\nhttps://www.kaggle.com/shravankumar9892/image-colorization#gray_scale.npy   \\n'"
            ]
          },
          "metadata": {
            "tags": []
          },
          "execution_count": 4
        }
      ]
    },
    {
      "cell_type": "code",
      "metadata": {
        "id": "S2mLmGE9BtQ4",
        "colab_type": "code",
        "outputId": "4a094d2b-d311-4cd4-93f9-330b5fb7e02e",
        "colab": {
          "base_uri": "https://localhost:8080/",
          "height": 35
        }
      },
      "source": [
        "\"\"\"\n",
        "File is obtained in zip format and uploaded to drive.  \n",
        "Python is used for unzipping.\n",
        "\n",
        "DO NOT RERUN, FILE ALREADY EXTRACTED!!\n",
        "\"\"\"\n",
        "\n",
        "\n",
        "# import zipfile\n",
        "# with zipfile.ZipFile('image-colorization.zip', 'r') as zip_ref:\n",
        "#     zip_ref.extractall(path = 'gdrive/My Drive/Datasets')"
      ],
      "execution_count": 5,
      "outputs": [
        {
          "output_type": "execute_result",
          "data": {
            "text/plain": [
              "'\\nFile is obtained in zip format and uploaded to drive.  \\nPython is used for unzipping.\\n\\nDO NOT RERUN, FILE ALREADY EXTRACTED!!\\n'"
            ]
          },
          "metadata": {
            "tags": []
          },
          "execution_count": 5
        }
      ]
    },
    {
      "cell_type": "markdown",
      "metadata": {
        "id": "SgmbVKNCSZ0B",
        "colab_type": "text"
      },
      "source": [
        "# Hyperparameters"
      ]
    },
    {
      "cell_type": "code",
      "metadata": {
        "id": "6EP5IT2yScZ0",
        "colab_type": "code",
        "colab": {}
      },
      "source": [
        "# model parameters\n",
        "activ = F.relu\n",
        "# activ = F.sigmoid\n",
        "minibatch_size = 64\n",
        "\n",
        "# trainer parameters\n",
        "n_epochs = 100\n",
        "lr = 3.16e-4 # initial learning rate, from chuchienshu for Adam optimizer\n",
        "# lr = 0.01  # DEBUG\n",
        "# update_rate = 2000  # training will print updates and generate output every n images\n",
        "update_period = 15 # training will print updates and generate output every n seconds\n",
        "\n",
        "lr_update_cycle = 20000 * 5  # lr will be decreased by lr_update_ratio every n images\n",
        "lr_update_ratio = 0.316\n",
        "min_learning_rate = 1e-8\n",
        "\n",
        "# output and checkpoint parameters\n",
        "output_minbatch_idx = 0  # minibatch of output image\n",
        "output_minbatch_sequence_idx = 0  # image within minibatch to output\n",
        "checkpoint_save_period = 30 * 60  # checkpoint period in seconds\n",
        "\n",
        "number_of_workers = 2  # number of workers that will load data. 2 if your system supports it (has problems with old pytorch)\n",
        "\n",
        "# paths for data storage\n",
        "path_data = '/content/gdrive/My Drive/DRRA/Data/'\n",
        "# path_data = \"C:\\\\Users\\\\John Smith\\\\Desktop\\\\DRRA_project\\\\Data\\\\\"\n",
        "\n",
        "# path_output = \"C:\\\\Users\\\\John Smith\\\\Desktop\\\\DRRA_project\\\\Results\\\\\"\n",
        "path_output = \"/content/gdrive/My Drive/DRRA/Output/\"\n",
        "\n",
        "# path_checkpoint = \"C:\\\\Users\\\\John Smith\\\\Desktop\\\\DRRA_project\\\\Checkpoints\\\\\"\n",
        "path_checkpoint = \"/content/gdrive/My Drive/DRRA/Checkpoints/\"\n",
        "\n",
        "# path_done = \"C:\\\\Users\\\\John Smith\\\\Desktop\\\\DRRA_project\\\\job_done.pth\"\n",
        "path_done = \"/content/gdrive/My Drive/DRRA/job_done.pth\"\n",
        "\n",
        "# path_debug = \"C:\\\\Users\\\\John Smith\\\\Desktop\\\\DRRA_project\\\\Debug\\\\\"\n",
        "path_debug = \"/content/gdrive/My Drive/DRRA/Debug/\"\n",
        "\n",
        "# torch options\n",
        "torch.set_printoptions(edgeitems=10)  # widen print output\n"
      ],
      "execution_count": 0,
      "outputs": []
    },
    {
      "cell_type": "markdown",
      "metadata": {
        "id": "c54d7mfrSXqV",
        "colab_type": "text"
      },
      "source": [
        "# Dataset"
      ]
    },
    {
      "cell_type": "code",
      "metadata": {
        "id": "1XqKECv2TUiT",
        "colab_type": "code",
        "colab": {}
      },
      "source": [
        "# Reference: https://stackoverflow.com/questions/57989716/loading-npy-files-as-dataset-for-pytorch\n",
        "# https://discuss.pytorch.org/t/loading-npy-files-using-torchvision/28481/2\n",
        "# Imports npy files into tensor data structure\n",
        "def npy_loader(path, file_name):\n",
        "    return torch.from_numpy(np.load(path + file_name))\n",
        "\n",
        "def reconstruct_predicted(image_gray, image_ab):\n",
        "    '''Reconstruct image from l+ab, convert to rgb uint8\n",
        "    image_gray (1, 1, 256, 256)\n",
        "    image_ab (1, 2, 256, 256)\n",
        "    '''\n",
        "    image_gray = image_gray.squeeze(0).squeeze(0)\n",
        "    image_ab = image_ab.squeeze(0).permute((1,2,0))\n",
        "    img = np.zeros((256, 256, 3))\n",
        "    img[:, :, 0] = image_gray\n",
        "    img[:, :, 1:] = image_ab\n",
        "    img = color.lab2rgb(img)  # (256, 256, 3), float(0., 1.)\n",
        "    img = img * 255\n",
        "    img = img.astype('uint8')  # (256, 256, 3), int(0, 255)\n",
        "    return img"
      ],
      "execution_count": 0,
      "outputs": []
    },
    {
      "cell_type": "code",
      "metadata": {
        "id": "eQgstA0mh1oa",
        "colab_type": "code",
        "colab": {}
      },
      "source": [
        "# Import Dataset from numpy files\n",
        "# abval1 = npy_loader(path_data, 'ab1.npy')\n",
        "# abval2 = npy_loader(path_data, 'ab2.npy')\n",
        "# abval3 = npy_loader(path_data, 'ab3.npy')\n",
        "# lval = npy_loader(path_data, 'gray_scale.npy')\n",
        "\n",
        "# ab_temp = torch.cat((abval1, abval2), 0)\n",
        "# abval = torch.cat((ab_temp , abval3), 0)"
      ],
      "execution_count": 0,
      "outputs": []
    },
    {
      "cell_type": "code",
      "metadata": {
        "id": "fZBOs2YRgrYW",
        "colab_type": "code",
        "colab": {}
      },
      "source": [
        "# Create reduced database for testing\n",
        "# abval_reduced = abval[:100,:,:,:].cpu().clone()\n",
        "# lval_reduced = lval[:100,:,:].cpu().clone()\n",
        "# torch.save(abval_reduced, path_data + \"abval_reduced.pt\")\n",
        "# torch.save(lval_reduced, path_data + \"lval_reduced.pt\")"
      ],
      "execution_count": 0,
      "outputs": []
    },
    {
      "cell_type": "code",
      "metadata": {
        "id": "kFKk-iDcn5oO",
        "colab_type": "code",
        "colab": {}
      },
      "source": [
        "# Import reduced Dataset from torch files\n",
        "abval = torch.load(path_data + \"abval_reduced.pt\")\n",
        "lval = torch.load(path_data + \"lval_reduced.pt\")"
      ],
      "execution_count": 0,
      "outputs": []
    },
    {
      "cell_type": "code",
      "metadata": {
        "id": "RC4vm0LxTbPH",
        "colab_type": "code",
        "outputId": "2076cdda-5ea1-4de0-c84a-646d3ce54647",
        "colab": {
          "base_uri": "https://localhost:8080/",
          "height": 106
        }
      },
      "source": [
        "# split into training and testing (4:1)\n",
        "lval_training, lval_testing = lval.split((lval.shape[0] - int(lval.shape[0]/5), int(lval.shape[0]/5)))\n",
        "abval_training, abval_testing = abval.split((lval.shape[0] - int(lval.shape[0]/5), int(lval.shape[0]/5)))\n",
        "n_training = len(lval_training)\n",
        "n_testing = len(lval_testing)\n",
        "n_training_minibatches = int(n_training / minibatch_size) + 1\n",
        "n_testing_minibatches = int(n_testing / minibatch_size) + 1\n",
        "\n",
        "print(\"Minibatch size: {}\".format(minibatch_size))\n",
        "print(\"Number training images: {}\".format(n_training))\n",
        "print(\"Number testing images: {}\".format(n_testing))\n",
        "print(\"Number training minibatches: {}\".format(n_training_minibatches))\n",
        "print(\"Number testing minibatches: {}\".format(n_testing_minibatches))"
      ],
      "execution_count": 11,
      "outputs": [
        {
          "output_type": "stream",
          "text": [
            "Minibatch size: 64\n",
            "Number training images: 80\n",
            "Number testing images: 20\n",
            "Number training minibatches: 2\n",
            "Number testing minibatches: 1\n"
          ],
          "name": "stdout"
        }
      ]
    },
    {
      "cell_type": "code",
      "metadata": {
        "id": "UhNPFCmCacpy",
        "colab_type": "code",
        "colab": {}
      },
      "source": [
        "# This code used to create minibatches. Now DataLoader does that in parallelized way\n",
        "# split to mini_batch sized chunks\n",
        "\n",
        "# lval_training = torch.split(lval_training, minibatch_size, 0)\n",
        "# lval_testing = torch.split(lval_testing, minibatch_size, 0)\n",
        "# abval_training = torch.split(abval_training, minibatch_size, 0)\n",
        "# abval_testing = torch.split(abval_testing, minibatch_size, 0)"
      ],
      "execution_count": 0,
      "outputs": []
    },
    {
      "cell_type": "code",
      "metadata": {
        "id": "1CoVxJ7T83su",
        "colab_type": "code",
        "colab": {}
      },
      "source": [
        "# Bins for quantized ab color space\n",
        "points = torch.load(path_data + \"points.pth\")"
      ],
      "execution_count": 0,
      "outputs": []
    },
    {
      "cell_type": "code",
      "metadata": {
        "id": "C9W6W5dRe1UH",
        "colab_type": "code",
        "colab": {}
      },
      "source": [
        "class CustomDatasetLAB(Dataset):\n",
        "    ''' Loads an image from storage (in this case in RAM), converts it to the standardized format '''\n",
        "    def __init__(self, lval, abval):\n",
        "        # array of luminances and chrominances\n",
        "        self.l = lval\n",
        "        self.ab = abval\n",
        "\n",
        "    def __len__(self):\n",
        "        return self.l.shape[0]\n",
        "\n",
        "    def __getitem__(self, idx):\n",
        "        img_l = self.l[idx]\n",
        "        img_ab = self.ab[idx]\n",
        "        # img_l = resize(img_l, (minibatch_size, 256, 256), preserve_range=True) #TODO: is this even valid? expected (row, cols, chans)\n",
        "        # img_ab = resize(img_ab, (minibatch_size, 256, 256), preserve_range=True)  #TODO: is this even valid? expected (row, cols, chans)\n",
        "\n",
        "        # img_l = torch.from_numpy(img_l)\n",
        "        # img_ab = torch.from_numpu(img_ab)\n",
        "\n",
        "       \n",
        "        img_l = img_l.unsqueeze(0).unsqueeze(0).float()\n",
        "        img_ab = img_ab.permute(2,0,1).unsqueeze(0).float()\n",
        "        # print(img_l.shape)  # (minibatch_size, 1, 224, 224)\n",
        "        # print(img_ab.shape)  # (minibatch_size, 224, 224, 2)\n",
        "        img_l = F.interpolate(img_l, (256, 256))\n",
        "        img_ab = F.interpolate(img_ab, (256, 256))\n",
        "\n",
        "        img_l = img_l / 256 * 110\n",
        "        img_ab = img_ab - 128\n",
        "        img = torch.cat((img_l, img_ab), dim=1)\n",
        "        img = img.squeeze(0)  # (3, 256, 256)\n",
        "        return img\n",
        "\n",
        "training_dataset = CustomDatasetLAB(lval_training, abval_training)\n",
        "testing_dataset = CustomDatasetLAB(lval_testing, abval_testing)\n",
        "\n",
        "trainloader = DataLoader(training_dataset, batch_size = minibatch_size, shuffle=True, num_workers=number_of_workers, pin_memory=True)\n",
        "testloader = DataLoader(testing_dataset, batch_size = minibatch_size, shuffle=True, num_workers=number_of_workers, pin_memory=True)\n"
      ],
      "execution_count": 0,
      "outputs": []
    },
    {
      "cell_type": "markdown",
      "metadata": {
        "id": "r2cKvquQjilL",
        "colab_type": "text"
      },
      "source": [
        "# Preview dataset"
      ]
    },
    {
      "cell_type": "code",
      "metadata": {
        "id": "hWVAtM2Sjl40",
        "colab_type": "code",
        "outputId": "7141cc43-3e6f-4de4-982f-04cacbefa99e",
        "colab": {
          "base_uri": "https://localhost:8080/",
          "height": 287
        }
      },
      "source": [
        "# Preview a single image\n",
        "# img = training_dataset[0].unsqueeze(0)\n",
        "\n",
        "dataiter = iter(trainloader)\n",
        "img = dataiter.next()\n",
        "\n",
        "l = img[:,0:1,:,:]\n",
        "ab = img[:,1:,:,:]\n",
        "l = l[output_minbatch_sequence_idx:output_minbatch_sequence_idx+1]\n",
        "ab = ab[output_minbatch_sequence_idx:output_minbatch_sequence_idx+1]\n",
        "img = reconstruct_predicted(l.to('cpu'), ab.to('cpu'))\n",
        "plt.imshow(img)"
      ],
      "execution_count": 15,
      "outputs": [
        {
          "output_type": "execute_result",
          "data": {
            "text/plain": [
              "<matplotlib.image.AxesImage at 0x7fd525a99438>"
            ]
          },
          "metadata": {
            "tags": []
          },
          "execution_count": 15
        },
        {
          "output_type": "display_data",
          "data": {
            "image/png": "[encoded data removed]",
            "text/plain": [
              "<Figure size 432x288 with 1 Axes>"
            ]
          },
          "metadata": {
            "tags": []
          }
        }
      ]
    },
    {
      "cell_type": "code",
      "metadata": {
        "id": "f9dn_fZG1Mr2",
        "colab_type": "code",
        "colab": {}
      },
      "source": [
        "# Preview a grid of images\n",
        "# Deprecated\n",
        "\n",
        "# def show(img):\n",
        "#     npimg = img.numpy()\n",
        "#     plt.imshow(np.transpose(npimg, (1,2,0)), interpolation='nearest')\n",
        "\n",
        "# l, ab = training_dataset[0]\n",
        "# lab = torch.cat((l,ab), dim=1).cpu()\n",
        "# rgb = torch.empty((64, 3, 256, 256))\n",
        "\n",
        "# for i in range(64):\n",
        "#     img = lab[i]\n",
        "#     img = img.permute(1,2,0)\n",
        "#     img = torch.from_numpy(color.lab2rgb(img))\n",
        "#     img = img.permute(2,0,1)\n",
        "#     rgb[i] = img\n",
        "# show(make_grid(rgb, nrow=16))"
      ],
      "execution_count": 0,
      "outputs": []
    },
    {
      "cell_type": "markdown",
      "metadata": {
        "id": "QIfn5u6USs6h",
        "colab_type": "text"
      },
      "source": [
        "# Filter dataset for specific images"
      ]
    },
    {
      "cell_type": "code",
      "metadata": {
        "id": "DqC3A7FIovbk",
        "colab_type": "code",
        "colab": {}
      },
      "source": [
        "# Might be deprecated since DataLoader rewrite"
      ],
      "execution_count": 0,
      "outputs": []
    },
    {
      "cell_type": "code",
      "metadata": {
        "id": "ve5Fixa0bAFz",
        "colab_type": "code",
        "colab": {}
      },
      "source": [
        "# detect all grayscale and grayish images\n",
        "# TODO: test is_grayscale with grayscale, debug is_grayish\n",
        "# def is_grayscale(img):\n",
        "#     ''' Tests if image is grayscale - all channels of RGB are equal\n",
        "#     @param img, torch.tensor(3,256,256)\n",
        "#     @return boolean, true if grayscale\n",
        "#     '''\n",
        "#     img = img.byte()\n",
        "#     ans = (img[0] == img[1]).all() and (img[1] == img[2]).all()\n",
        "#     return ans\n",
        "\n",
        "# def is_low_color(img):\n",
        "#     ''' Tests if an image is of mostly the same color\n",
        "#     @param img, torch.array(3,256,256)\n",
        "#     @return boolean, true if image is not too colorful\n",
        "#     '''\n",
        "#     tresh = 256 / 10 # within 10% colorization\n",
        "#     mean = torch.mean(img, dim=0)\n",
        "#     xy = torch.abs(img[0] - mean)\n",
        "#     yz = torch.abs(img[1] - mean)\n",
        "#     zx = torch.abs(img[2] - mean)\n",
        "#     ans = (xy < tresh).all() and (yz < tresh).all() and (zx < tresh).all()\n",
        "#     return ans"
      ],
      "execution_count": 0,
      "outputs": []
    },
    {
      "cell_type": "code",
      "metadata": {
        "id": "vFi7wclGpHe9",
        "colab_type": "code",
        "colab": {}
      },
      "source": [
        "# Count grayscale and low color images\n",
        "# grayscale_ct = 0\n",
        "# low_color_ct = 0\n",
        "# grayscale = []\n",
        "# low_color = []\n",
        "\n",
        "# for m_idx, minibatch in enumerate(training_dataset, 0):\n",
        "#     l, ab = minibatch\n",
        "#     lab = torch.cat((l, ab), dim=1).cpu()\n",
        "#     for i_idx, img in enumerate(lab):\n",
        "#         if is_grayscale(img):\n",
        "#             grayscale_ct += 1\n",
        "#             grayscale.append([m_idx, i_idx])\n",
        "#         if is_low_color(img):\n",
        "#             low_color_ct += 1\n",
        "#             low_color.append([m_idx, i_idx])\n",
        "# print(\"Grayscale images: {}, low color images: {}\".format(grayscale_ct, low_color_ct))"
      ],
      "execution_count": 0,
      "outputs": []
    },
    {
      "cell_type": "code",
      "metadata": {
        "id": "C9dZhUA3suAD",
        "colab_type": "code",
        "colab": {}
      },
      "source": [
        "# Convert all low-colorization images into RGB format and show in a grid\n",
        "# low_colors = torch.empty((low_color_ct,3,256,256))\n",
        "# for i, idxs in enumerate(low_color, 0):\n",
        "#     (m_idx, i_idx) = idxs\n",
        "#     l, ab = training_dataset[m_idx]\n",
        "#     lab = torch.cat((l[i_idx], ab[i_idx]), dim=0).cpu()\n",
        "#     img = lab.permute(1,2,0)\n",
        "#     img = torch.from_numpy(color.lab2rgb(img))\n",
        "#     img = img.permute(2,0,1)\n",
        "#     low_colors[i] = img\n",
        "# show(make_grid(low_colors, nrow=8))"
      ],
      "execution_count": 0,
      "outputs": []
    },
    {
      "cell_type": "code",
      "metadata": {
        "id": "YS6l2CA0jyo1",
        "colab_type": "code",
        "colab": {}
      },
      "source": [
        "# Show a single low-color image\n",
        "# m_idx, i_idx = low_color[12]\n",
        "# l, ab = training_dataset[m_idx]\n",
        "# l = l[i_idx].unsqueeze(0)\n",
        "# ab = ab[i_idx].unsqueeze(0)\n",
        "# plt.imshow(reconstruct_predicted(l.cpu(), ab.cpu()))"
      ],
      "execution_count": 0,
      "outputs": []
    },
    {
      "cell_type": "markdown",
      "metadata": {
        "id": "4d4yFlBI1ZOJ",
        "colab_type": "text"
      },
      "source": [
        "# Colorizer NN"
      ]
    },
    {
      "cell_type": "code",
      "metadata": {
        "id": "1SkqRtB8mcsb",
        "colab_type": "code",
        "colab": {}
      },
      "source": [
        "class Net(nn.Module):\n",
        "    ''' Net parameters as in: https://github.com/richzhang/colorization/blob/master/colorization/models/colorization_deploy_v2.prototxt '''\n",
        "    def __init__(self):\n",
        "        super(Net, self).__init__()\n",
        "        # self.bn0 = nn.BatchNorm2d(1,1).to(device)  # pre normalize the input of the image TODO: effect?\n",
        "\n",
        "        self.conv1_1 = nn.Conv2d(1, 64, 3, padding=1).to(device)\n",
        "        self.conv1_2 = nn.Conv2d(64, 64, 3, stride=2, padding=1).to(device)\n",
        "        self.bn1_2 = nn.BatchNorm2d(64).to(device)\n",
        "\n",
        "        self.conv2_1 = nn.Conv2d(64, 128, 3, padding=1).to(device)\n",
        "        self.conv2_2 = nn.Conv2d(128, 128, 3, stride=2, padding=1).to(device)\n",
        "        self.bn2_2 = nn.BatchNorm2d(128).to(device)\n",
        "\n",
        "        self.conv3_1 = nn.Conv2d(128, 256, 3, padding=1).to(device)\n",
        "        self.conv3_2 = nn.Conv2d(256, 256, 3, padding=1).to(device)\n",
        "        self.conv3_3 = nn.Conv2d(256, 256, 3, 2, padding=1).to(device)\n",
        "        self.bn3_3 = nn.BatchNorm2d(256).to(device)\n",
        "\n",
        "        self.conv4_1 = nn.Conv2d(256, 512, 3, padding=1).to(device)\n",
        "        self.conv4_2 = nn.Conv2d(512, 512, 3, padding=1).to(device)\n",
        "        self.conv4_3 = nn.Conv2d(512, 512, 3, padding=1).to(device)\n",
        "        self.bn4_3 = nn.BatchNorm2d(512).to(device)\n",
        "\n",
        "        self.conv5_1 = nn.Conv2d(512, 512, 3, padding=2, dilation=2).to(device)\n",
        "        self.conv5_2 = nn.Conv2d(512, 512, 3, padding=2, dilation=2).to(device)\n",
        "        self.conv5_3 = nn.Conv2d(512, 512, 3, padding=2, dilation=2).to(device)\n",
        "        self.bn5_3 = nn.BatchNorm2d(512).to(device)\n",
        "\n",
        "        self.conv6_1 = nn.Conv2d(512, 512, 3, padding=2, dilation=2).to(device)\n",
        "        self.conv6_2 = nn.Conv2d(512, 512, 3, padding=2, dilation=2).to(device)\n",
        "        self.conv6_3 = nn.Conv2d(512, 512, 3, padding=2, dilation=2).to(device)\n",
        "        self.bn6_3 = nn.BatchNorm2d(512).to(device)\n",
        "       \n",
        "        self.conv7_1 = nn.Conv2d(512, 512, 3, padding=1, dilation=1).to(device)\n",
        "        self.conv7_2 = nn.Conv2d(512, 512, 3, padding=1, dilation=1).to(device)\n",
        "        self.conv7_3 = nn.Conv2d(512, 512, 3, padding=1, dilation=1).to(device)\n",
        "        self.bn7_3 = nn.BatchNorm2d(512).to(device)\n",
        "\n",
        "        # TODO: what is deconvolution?\n",
        "        self.conv8_1 = nn.ConvTranspose2d(512, 256, 4, stride=2, padding=1, dilation=1).to(device)\n",
        "        self.conv8_2 = nn.Conv2d(256, 256, 3, padding=1, dilation=1).to(device)\n",
        "        self.conv8_3 = nn.Conv2d(256, 256, 3, padding=1, dilation=1).to(device)\n",
        "        \n",
        "        self.conv8_313 = nn.Conv2d(256, 313, kernel_size=1).to(device)\n",
        "        self.softmax = nn.Softmax(dim=1).to(device)\n",
        "\n",
        "    def forward(self, x):\n",
        "        ''' expects l tensor[1,1,256,256] '''\n",
        "        # x = self.bn0(x)\n",
        "        x = self.bn1_2(activ(self.conv1_2(activ(self.conv1_1(x)))))\n",
        "        x = self.bn2_2(activ(self.conv2_2(activ(self.conv2_1(x)))))\n",
        "        x = self.bn3_3(activ(self.conv3_3(activ(self.conv3_2(activ(self.conv3_1(x)))))))\n",
        "        x = self.bn4_3(activ(self.conv4_3(activ(self.conv4_2(activ(self.conv4_1(x)))))))\n",
        "        x = self.bn5_3(activ(self.conv5_3(activ(self.conv5_2(activ(self.conv5_1(x)))))))\n",
        "        x = self.bn6_3(activ(self.conv6_3(activ(self.conv6_2(activ(self.conv6_1(x)))))))\n",
        "        x = self.bn7_3(activ(self.conv7_3(activ(self.conv7_2(activ(self.conv7_1(x)))))))\n",
        "        x = activ(self.conv8_3(activ(self.conv8_2(activ(self.conv8_1(x))))))\n",
        "        z_hat = self.softmax(self.conv8_313(x))\n",
        "        return z_hat"
      ],
      "execution_count": 0,
      "outputs": []
    },
    {
      "cell_type": "markdown",
      "metadata": {
        "colab_type": "text",
        "id": "CDGCX3CX-pL9"
      },
      "source": [
        "# Colorizer functions"
      ]
    },
    {
      "cell_type": "code",
      "metadata": {
        "colab_type": "code",
        "cellView": "both",
        "id": "QaqOYZ9F-D5J",
        "colab": {}
      },
      "source": [
        "def get_index(ab):\n",
        "    ''' Quantize image and return bin-number for whole h*w\n",
        "    @param: in_data - torch.tensor (minibatch_size,2,h,w)\n",
        "    @return: idx_bin - torch.tensor (minibatch_size,h,w)\n",
        "     '''\n",
        "    ab = ab.unsqueeze(1) # make dimension for z broadcasting (1,1,2,64,64)\n",
        "    points_reshaped = points.unsqueeze(0).unsqueeze(-1).unsqueeze(-1)  # (1, 313, 2, 1, 1)\n",
        "    distance = (ab - points_reshaped)**2 # (1, 313, 2, 64, 64)\n",
        "    avg_distance = torch.mean(distance, dim = 2) # (1, 313, 64, 64) n.b. closest bin is (a_dist + b_dist)/2\n",
        "    bin_idx = avg_distance.argmin(dim = 1)  # (1, 64, 64)\n",
        "    # print(bin_idx.shape)\n",
        "    return bin_idx\n",
        "\n",
        "def get_index_top5(ab):\n",
        "    ''' Quantize image and return top5 bin-numbers and their relative probs for whole h*w\n",
        "    @param: in_data - torch.tensor (minibatch_size,2,h,w)\n",
        "    @return: idx_bin - torch.tensor (minibatch_size,5,h,w),  torch.tensor (minibatch_size,5,h,w)\n",
        "     '''\n",
        "    # TODO: currently the probabilities are inversly proportional to distances. Should be \"weighed using Gauss kernel\"\n",
        "    ab = ab.unsqueeze(1) # make dimension for z broadcasting (1,1,2,64,64)\n",
        "    points_reshaped = points.unsqueeze(0).unsqueeze(-1).unsqueeze(-1)  # (1, 313, 2, 1, 1)\n",
        "    distance = (ab - points_reshaped)**2 # (1, 313, 2, 64, 64)\n",
        "    avg_distance = torch.mean(distance, dim = 2) # (1, 313, 64, 64) n.b. closest bin is (a_dist + b_dist)/2\n",
        "    bin_vals, bin_idx = avg_distance.sort(dim = 1) # (1, 313, 64, 64)\n",
        "    bin_weights = bin_vals[0,0,:,:] / (bin_vals[:, 0:5, :, :] + 1e-8)  # normalize and inverse probabilities\n",
        "    bin_idx = bin_idx[:, 0:5, :, :]\n",
        "    return bin_idx, bin_weights\n",
        "\n",
        "def get_distances(ab):\n",
        "    ''' Quantize image and return top5 bin-numbers and their relative probs for whole h*w\n",
        "    @param: in_data - torch.tensor (minibatch_size,2,h,w)\n",
        "    @return: distances - torch.tensor (minibatch_size, 313, h, w)\n",
        "     '''\n",
        "    # TODO: currently the probabilities are inversly proportional to distances. Should be \"weighed using Gauss kernel\"\n",
        "    ab = ab.unsqueeze(1) # make dimension for z broadcasting (1,1,2,64,64)\n",
        "    points_reshaped = points.unsqueeze(0).unsqueeze(-1).unsqueeze(-1)  # (1, 313, 2, 1, 1)\n",
        "    distance = (ab - points_reshaped)**2 # (1, 313, 2, 64, 64)\n",
        "    avg_distance = torch.mean(distance, dim = 2) # (1, 313, 64, 64) n.b. closest bin is (a_dist + b_dist)/2\n",
        "    # bin_vals, bin_idx = avg_distance.sort(dim = 1) # (1, 313, 64, 64)\n",
        "    # bin_weights = bin_vals[0,0,:,:] / (bin_vals[:, 0:5, :, :] + 1e-8)  # normalize and inverse probabilities\n",
        "    # bin_idx = bin_idx[:, 0:5, :, :]\n",
        "    return avg_distance\n",
        "\n",
        "# NOTE: This is the one-hot encoded version\n",
        "def h_inverse(ab):\n",
        "    ''' construct z tensor given ab ground truth. Hard encoded.\n",
        "    @param ab, tensor([minibatch_size, 64,64,2])\n",
        "    @return z, tensor[minibatch_size,64,64,313]\n",
        "    '''\n",
        "    ab_idx = get_index(ab)\n",
        "    z = F.one_hot(ab_idx, 313).float()\n",
        "    return z\n",
        "\n",
        "def h_inverse_top5(ab):\n",
        "    # Note: the output of this function does not match h_inverse_top5_optim\n",
        "    ''' construct z tensor given ab ground truth. Soft encoded (top5 weighted probabilities)\n",
        "    @param ab, tensor([minibatch_size,64,64,2])\n",
        "    @return z, tensor[minibatch_size, 64,64,313]\n",
        "    '''\n",
        "\n",
        "    n = ab.shape[0]\n",
        "    h = ab.shape[2]\n",
        "    w = ab.shape[3]\n",
        "\n",
        "    def col_wise_replace(dest, idxs, source):\n",
        "        for k in range(n):\n",
        "            for i in range(h):\n",
        "                for j in range(w):\n",
        "                    dest[k,i,j].index_copy_(0, idxs[k,i,j], source[k,i,j])\n",
        "\n",
        "    # print(ab.device)\n",
        "    # print(ab.shape)  #(minibatch_size, 2, 64, 64)\n",
        "    idxs, probs = get_index_top5(ab)\n",
        "    # print(idxs.shape, probs.shape)\n",
        "    idxs = idxs.permute(0,2,3,1)  # (minibatch_size, 64, 64, 5)\n",
        "    probs = probs.permute(0,2,3,1)  # (minibatch_size, 64, 64, 5)\n",
        "    probs = probs.softmax(3)\n",
        "\n",
        "    z = torch.zeros((idxs.shape[0], 64, 64, 313), dtype=torch.float32, device=device)\n",
        "    col_wise_replace(z, idxs, probs)\n",
        "    return z\n",
        "\n",
        "def h_inverse_top5_optim(ab):\n",
        "    ''' construct z tensor given ab ground truth. Soft encoded (top5 weighted probabilities)\n",
        "    @param ab, tensor([minibatch_size,64,64,2])\n",
        "    @return z, tensor[minibatch_size, 64,64,313]\n",
        "    '''\n",
        "    # print(ab.shape)  #(minibatch_size, 2, 64, 64)\n",
        "    bin_distances = get_distances(ab) # (1, 313, 64, 64)\n",
        "    min5, min5_idxs = torch.topk(bin_distances, 5, 1, False)\n",
        "    min1 =  min5[:, 0, :, :].unsqueeze(1)\n",
        "    min_lower = min5[:, 4, :, :].unsqueeze(1)\n",
        "    \n",
        "    mask = bin_distances.gt(min_lower)  # true where distance is larger than 5th smallest distance (inverse of min5)\n",
        "    mask = 1 - mask.int()\n",
        "\n",
        "    # bin_distances --> probabilities, where min5[0] is 1 and everything else is less\n",
        "    z = (1 * min1) / (bin_distances + 1e-8)# (1, 313, 64, 64)\n",
        "\n",
        "    # remove all values that are not in min5 distances\n",
        "    z = z.mul(mask)\n",
        "\n",
        "    # normalize\n",
        "    z = z / (z.sum(1).unsqueeze(1) + 1e-8)\n",
        "    return z.permute(0,2,3,1)\n",
        "\n",
        "def H(z_hat):\n",
        "    \"\"\"\n",
        "    Input: Z_hat (1,313,64,64)\n",
        "     - 313 probablities for each of the H * W pixels.\n",
        "      This is for 313 quantised a-b bins\n",
        "\n",
        "    Output: Y_hat (64, 64, 2)\n",
        "    - ab value matrix\n",
        "    \"\"\"\n",
        "    z_hat_softmax = f_t(z_hat)\n",
        "    z_hat_softmax = z_hat_softmax.squeeze(0).permute(1,2,0) # remove singleton dimension 0\n",
        "    # print(z_hat_softmax.shape) # [64,64,313]\n",
        "    a_bins = points[:,0].unsqueeze(0).unsqueeze(0)\n",
        "    b_bins = points[:,1].unsqueeze(0).unsqueeze(0)\n",
        "    # print(b_bins.shape)  # [1,1,313]\n",
        "    a_hat = (z_hat_softmax * a_bins).sum(2)\n",
        "    b_hat = (z_hat_softmax * b_bins).sum(2)\n",
        "    a_hat = a_hat.unsqueeze(0)\n",
        "    b_hat = b_hat.unsqueeze(0)\n",
        "    # print(a_hat.shape)  # [1, 64, 64]\n",
        "    ab_hat = torch.cat((a_hat, b_hat), 0)\n",
        "    # print(ab_hat.shape) # [2, 64, 64]\n",
        "    return ab_hat.permute(1,2,0)\n",
        "\n",
        "def f_t(z_hat):\n",
        "    \"\"\"\n",
        "    f_t function in equation 5 \n",
        "    input Z_hat has dimensions (1, 313, 64, 64)\n",
        "    ??? output f_t_Z dimension H * W * Q\n",
        "\n",
        "    - Each of the 313 Q probability values of each H * W pixels is converted to \n",
        "      softmax probabilites.\n",
        "\n",
        "    - The final value is the expected value of all these 313 softmax probablities across the color bins\n",
        "      this is calculated in the H function\n",
        "    \"\"\"\n",
        "    T = 0.38 # From page 6 of paper\n",
        "    z_hat_exp = torch.exp(torch.log(z_hat)/T) # dimension: H * W * Q\n",
        "\n",
        "    deno = torch.sum(z_hat_exp, dim = 1)\n",
        "    z_hat_softmax = z_hat_exp / deno \n",
        "    return z_hat_softmax\n",
        "\n",
        "def adjust_learning_rate(optimizer):\n",
        "    \"\"\" Sources - training VGGbn-16: https://github.com/pytorch/examples/blob/master/imagenet/main.py, https://github.com/chuchienshu/Colorization/blob/master/solver.py\"\"\"\n",
        "    \n",
        "    global_lr = optimizer.param_groups[0]['lr']\n",
        "    if global_lr > min_learning_rate:\n",
        "        global_lr = global_lr * (lr_update_ratio)\n",
        "    for param_group in optimizer.param_groups:\n",
        "        param_group['lr'] = global_lr\n",
        "    \n",
        "def generate_test_output():\n",
        "    img = training_dataset[0].cuda().unsqueeze(0)\n",
        "    l = img[:,0:1,:,:]\n",
        "    ab = img[:,1:,:,:]       \n",
        "    z_hat = net(l)\n",
        "    ab_hat = H(z_hat)\n",
        "    ab_hat = ab_hat.permute(2,0,1).unsqueeze(0)\n",
        "    ab_hat_256 = F.interpolate(ab_hat, (256, 256))\n",
        "    img_rgb = reconstruct_predicted(l.cpu(), ab_hat_256.detach().cpu())\n",
        "    img = Image.fromarray(img_rgb)\n",
        "    img.save(path_output + \"colorized_image{}_{}.png\".format(epoch, i))\n",
        "    print(\"       Colorization preview saved.\")"
      ],
      "execution_count": 0,
      "outputs": []
    },
    {
      "cell_type": "markdown",
      "metadata": {
        "id": "fuxq07GbM86s",
        "colab_type": "text"
      },
      "source": [
        "# Cleanup output and checkpoints "
      ]
    },
    {
      "cell_type": "code",
      "metadata": {
        "id": "2h1xoyDDNCB1",
        "colab_type": "code",
        "outputId": "073c25f4-4b9f-4c9a-a55f-916eca4007fd",
        "colab": {
          "base_uri": "https://localhost:8080/",
          "height": 0
        }
      },
      "source": [
        "!rm -rf \"$path_output\"\n",
        "!mkdir \"$path_output\"\n",
        "!rm -rf \"$path_checkpoint\"\n",
        "!mkdir \"$path_checkpoint\"\n",
        "!rm -rf \"$path_debug\"\n",
        "!mkdir \"$path_debug\"\n",
        "print(\"/Output, /Checkpoints, /Debug cleaned up.\")\n",
        "# print(\"/Output, /Debug cleaned up.\")"
      ],
      "execution_count": 24,
      "outputs": [
        {
          "output_type": "stream",
          "text": [
            "/Output, /Checkpoints, /Debug cleaned up.\n"
          ],
          "name": "stdout"
        }
      ]
    },
    {
      "cell_type": "markdown",
      "metadata": {
        "id": "RHeoudOx1fDB",
        "colab_type": "text"
      },
      "source": [
        "# Init net, optimizer, loss\n",
        "\n"
      ]
    },
    {
      "cell_type": "code",
      "metadata": {
        "id": "dt2yzaP5YdZD",
        "colab_type": "code",
        "colab": {}
      },
      "source": [
        "net = Net()\n",
        "net.to(device)\n",
        "\n",
        "class OutCrossEntropyLoss(torch.nn.Module):\n",
        "    def __init__(self):\n",
        "        super(OutCrossEntropyLoss,self).__init__()\n",
        "        \n",
        "    def forward(self,z,z_hat):\n",
        "        # TODO: shape equals?\n",
        "        z_hat = z_hat + 1e-08  # small epsilon to avoid log(0) error\n",
        "        mul = z.mul(z_hat.log())\n",
        "        MSE = mul.sum()\n",
        "        loss = -MSE / (z.shape[2] * z.shape[3] * z.shape[0])  # loss normalized to number pixels and minibatch size\n",
        "        return loss \n",
        "\n",
        "criterion = OutCrossEntropyLoss()  # Cross Entropy Loss\n",
        "criterion.to(device)\n",
        "# optimizer = optim.SGD(net.parameters(), lr=lr, momentum=0.9)\n",
        "optimizer = optim.Adam(net.parameters(), lr=lr, weight_decay=1e-3, betas=(0.8, 0.9))\n",
        "resume_epoch = 0\n",
        "\n",
        "losses = []"
      ],
      "execution_count": 0,
      "outputs": []
    },
    {
      "cell_type": "markdown",
      "metadata": {
        "id": "5t5OOssVA7yv",
        "colab_type": "text"
      },
      "source": [
        "# Load net, optimizer"
      ]
    },
    {
      "cell_type": "code",
      "metadata": {
        "id": "oBOIharDA_Vu",
        "colab_type": "code",
        "colab": {}
      },
      "source": [
        "# load_epoch = 0\n",
        "# load_minibatch = 34\n",
        "\n",
        "# net = Net()\n",
        "# net.load_state_dict(torch.load(path_checkpoint + \"checkpoint_model_{}_{}.pth\".format(load_epoch, load_minibatch)))\n",
        "\n",
        "# loaded_optimizer = optim.Adam(net.parameters(), lr=lr)\n",
        "# loaded_optimizer.load_state_dict(torch.load(path_checkpoint + \"checkpoint_optim_{}_{}.pth\".format(load_epoch, load_minibatch)))\n",
        "# loaded_lr = loaded_optimizer.param_groups[0][\"lr\"]\n",
        "# net.to(device)\n",
        "# for param_group in optimizer.param_groups:\n",
        "#         param_group['lr'] = loaded_lr\n",
        "# print(\"Set optimizer lr = {}\".format(optimizer.param_groups[0][\"lr\"]))\n",
        "# resume_epoch = load_epoch + 1"
      ],
      "execution_count": 0,
      "outputs": []
    },
    {
      "cell_type": "code",
      "metadata": {
        "id": "uERreiHdn4hI",
        "colab_type": "code",
        "colab": {}
      },
      "source": [
        "# Resume from epoch\n",
        "# resume_epoch = 9"
      ],
      "execution_count": 0,
      "outputs": []
    },
    {
      "cell_type": "markdown",
      "metadata": {
        "id": "iniM3t_uAuyL",
        "colab_type": "text"
      },
      "source": [
        "# Train"
      ]
    },
    {
      "cell_type": "code",
      "metadata": {
        "colab_type": "code",
        "id": "P2HJqpLOSBF5",
        "outputId": "7517aa46-90cd-4bcf-e4f6-1d810870f3d7",
        "colab": {
          "base_uri": "https://localhost:8080/",
          "height": 725
        }
      },
      "source": [
        "print(\"Started training from epoch {}. Minibatch size = {}, number of samples per epoch = {}\".format(resume_epoch, minibatch_size, n_training))\n",
        "print(\"-\"*100)\n",
        "\n",
        "# DEBUG: save parameters before update\n",
        "# with open(path_debug + \"init_net_parameters.txt\", \"w\") as f:\n",
        "#     for param_group in net.parameters():\n",
        "#         f.write(str(param_group))\n",
        "\n",
        "last_checkpoint = time.time()\n",
        "last_update = time.time()\n",
        "lr_update_counter = 0\n",
        "\n",
        "class JobDone( Exception ):\n",
        "    pass\n",
        "try:\n",
        "    for epoch in range(resume_epoch, n_epochs):  # resume from next epoch\n",
        "        epoch_loss = 0\n",
        "        epoch_start = time.time()\n",
        "\n",
        "        for i, img in enumerate(trainloader, 0):\n",
        "            img = img.cuda()\n",
        "            l = img[:,0:1,:,:]\n",
        "            ab = img[:,1:,:,:] \n",
        "\n",
        "            # DEBUG uncomment\n",
        "            #Adjust learning rate for this epoch\n",
        "            # if lr_update_counter // lr_update_cycle > 0:\n",
        "            #       adjust_learning_rate(optimizer)\n",
        "            #       lr_update_counter = 0\n",
        "                  \n",
        "\n",
        "            # DEBUG: save parameters before update\n",
        "            # with open(path_debug + \"previous_net_parameters_{}_{}.txt\".format(epoch, i), \"w\") as f:\n",
        "            #         for param_group in net.parameters():\n",
        "            #             f.write(str(param_group)) \n",
        "\n",
        "            # DEBUG: all unique colors in the image, deprecated\n",
        "            # print(np.unique(get_index(ab_64).flatten()).tolist())\n",
        "\n",
        "            ab_64 = F.interpolate(ab, (64,64))\n",
        "            # z = h_inverse(ab_64) # (minibatch_size, 64, 64, 313) - 1-hot\n",
        "            z = h_inverse_top5_optim(ab_64) # (minibatch_size, 64, 64, 313) - soft encoded\n",
        "            z = z.permute(0,3,1,2)  # (minibatch_size, 313, 64, 64)\n",
        "            optimizer.zero_grad()\n",
        "            z_hat = net(l)\n",
        "            loss = criterion(z, z_hat)  # our cross entropy loss\n",
        "            loss.backward()\n",
        "\n",
        "            # DEBUG: loss calculation NaN\n",
        "            # torch.save(z_hat, path_debug + \"z_hat_{}_{}.pth\".format(epoch, i))\n",
        "            # torch.save(z, path_debug + \"z_{}_{}.pth\".format(epoch, i))\n",
        "\n",
        "            # DEBUG: save gradients\n",
        "            # with open(path_debug + \"parameter_gradients_{}_{}.txt\".format(epoch, i), \"w\") as f:\n",
        "            #         for param_group in net.parameters():\n",
        "            #             f.write(str(param_group.grad))\n",
        "            \n",
        "            optimizer.step()\n",
        "\n",
        "            # DEBUG: parameters after update\n",
        "            # with open(path_debug + \"net_parameters_{}_{}.txt\".format(epoch, i), \"w\") as f:\n",
        "            #             for param_group in net.parameters():\n",
        "            #                 f.write(str(param_group))       \n",
        "\n",
        "            lr_update_counter = lr_update_counter + minibatch_size\n",
        "            losses.append(loss.item())\n",
        "            epoch_loss += loss.item()\n",
        "\n",
        "            # print results every n images \n",
        "            # note: (works only if update_rate < epoch size)\n",
        "            # if (i % int(update_rate/minibatch_size) == 0 and i != 0  \n",
        "                # and l.shape[0] == minibatch_size):\n",
        "            \n",
        "            # print updates every n s\n",
        "            current_time = time.time()\n",
        "            if (current_time - last_update) > (update_period):  # save every n seconds\n",
        "                last_update = time.time()\n",
        "\n",
        "                print('Epoch {}/{}, minibatch {}/{}, loss {:.4f}, lr = {:.6f}'.format(epoch, n_epochs, i, n_training_minibatches, loss.item(), optimizer.param_groups[0]['lr']))\n",
        "                # generate_test_output()\n",
        "            \n",
        "            # DEBUG uncomment\n",
        "            # save checkpoint every 10mins\n",
        "            if (current_time - last_checkpoint) > (checkpoint_save_period):  # save every 10 mins\n",
        "                last_checkpoint = time.time()\n",
        "                torch.save(net.state_dict(), path_checkpoint + \"checkpoint_model_{}_{}.pth\".format(epoch, i))\n",
        "                torch.save(optimizer.state_dict(), path_checkpoint + \"checkpoint_optim_{}_{}.pth\".format(epoch, i))\n",
        "                torch.save(losses, path_checkpoint + \"checkpoint_losses_{}_{}.pth\".format(epoch, i))\n",
        "                print(\"       Checkpoint saved.\")\n",
        "\n",
        "            # DEBUG uncomment\n",
        "            # catch NaN errors\n",
        "            # for param_group in net.parameters():\n",
        "            #     if (torch.isnan(param_group)).any():\n",
        "            #         print(\"NaN error in epoch {}, minibatch {}\".format(epoch, i))  \n",
        "            #         raise ValueError(\"ERROR: One of the predicted values is NaN, aborting.\")\n",
        "\n",
        "            # DEBUG uncomment\n",
        "            # check if training complete\n",
        "            # if loss.item() < 0.01 and l.shape[0] == minibatch_size:  # prevent small loss due to remainder minibatch at the end of epoch\n",
        "            #     print(\"Loss at job completion: {}\".format(loss.item()))\n",
        "            #     raise JobDone\n",
        "        \n",
        "        epoch_finish = time.time()\n",
        "        epoch_training_duration = (epoch_finish - epoch_start) / 60\n",
        "        \n",
        "        # # Save checkpoint\n",
        "        # torch.save(net.state_dict(), path_checkpoint + \"checkpoint_model_{}_{}.pth\".format(epoch, i))\n",
        "        # torch.save(optimizer.state_dict(), path_checkpoint + \"checkpoint_optim_{}_{}.pth\".format(epoch, i))\n",
        "        torch.save(losses, path_checkpoint + \"checkpoint_losses_{}_{}.pth\".format(epoch, i))\n",
        "        print(\"       Checkpoint saved.\")\n",
        "\n",
        "        print(\"Average epoch loss: {}, took {:.2f} mins to compute.\".format(epoch_loss / n_training_minibatches, epoch_training_duration))\n",
        "        generate_test_output()\n",
        "\n",
        "\n",
        "except JobDone:   \n",
        "    print('Finished Training')\n",
        "    torch.save(net.state_dict(), path_done)\n",
        "    print(\"       Job saved.\")"
      ],
      "execution_count": 27,
      "outputs": [
        {
          "output_type": "stream",
          "text": [
            "Started training from epoch 0. Minibatch size = 64, number of samples per epoch = 80\n",
            "----------------------------------------------------------------------------------------------------\n",
            "       Checkpoint saved.\n",
            "Average epoch loss: 5.165644645690918, took 0.19 mins to compute.\n",
            "       Colorization preview saved.\n",
            "Epoch 1/100, minibatch 0/2, loss 4.8063, lr = 0.000316\n",
            "       Checkpoint saved.\n",
            "Average epoch loss: 4.714915752410889, took 0.18 mins to compute.\n",
            "       Colorization preview saved.\n"
          ],
          "name": "stdout"
        },
        {
          "output_type": "stream",
          "text": [
            "Traceback (most recent call last):\n",
            "  File \"/usr/lib/python3.6/multiprocessing/queues.py\", line 240, in _feed\n",
            "    send_bytes(obj)\n",
            "  File \"/usr/lib/python3.6/multiprocessing/connection.py\", line 200, in send_bytes\n",
            "    self._send_bytes(m[offset:offset + size])\n",
            "  File \"/usr/lib/python3.6/multiprocessing/connection.py\", line 404, in _send_bytes\n",
            "    self._send(header + buf)\n",
            "  File \"/usr/lib/python3.6/multiprocessing/connection.py\", line 368, in _send\n",
            "    n = write(self._handle, buf)\n",
            "BrokenPipeError: [Errno 32] Broken pipe\n"
          ],
          "name": "stderr"
        },
        {
          "output_type": "error",
          "ename": "KeyboardInterrupt",
          "evalue": "ignored",
          "traceback": [
            "\u001b[0;31m---------------------------------------------------------------------------\u001b[0m",
            "\u001b[0;31mKeyboardInterrupt\u001b[0m                         Traceback (most recent call last)",
            "\u001b[0;32m<ipython-input-27-f869d8bfaa94>\u001b[0m in \u001b[0;36m<module>\u001b[0;34m()\u001b[0m\n\u001b[1;32m     45\u001b[0m             \u001b[0mz_hat\u001b[0m \u001b[0;34m=\u001b[0m \u001b[0mnet\u001b[0m\u001b[0;34m(\u001b[0m\u001b[0ml\u001b[0m\u001b[0;34m)\u001b[0m\u001b[0;34m\u001b[0m\u001b[0;34m\u001b[0m\u001b[0m\n\u001b[1;32m     46\u001b[0m             \u001b[0mloss\u001b[0m \u001b[0;34m=\u001b[0m \u001b[0mcriterion\u001b[0m\u001b[0;34m(\u001b[0m\u001b[0mz\u001b[0m\u001b[0;34m,\u001b[0m \u001b[0mz_hat\u001b[0m\u001b[0;34m)\u001b[0m  \u001b[0;31m# our cross entropy loss\u001b[0m\u001b[0;34m\u001b[0m\u001b[0;34m\u001b[0m\u001b[0m\n\u001b[0;32m---> 47\u001b[0;31m             \u001b[0mloss\u001b[0m\u001b[0;34m.\u001b[0m\u001b[0mbackward\u001b[0m\u001b[0;34m(\u001b[0m\u001b[0;34m)\u001b[0m\u001b[0;34m\u001b[0m\u001b[0;34m\u001b[0m\u001b[0m\n\u001b[0m\u001b[1;32m     48\u001b[0m \u001b[0;34m\u001b[0m\u001b[0m\n\u001b[1;32m     49\u001b[0m             \u001b[0;31m# DEBUG: loss calculation NaN\u001b[0m\u001b[0;34m\u001b[0m\u001b[0;34m\u001b[0m\u001b[0;34m\u001b[0m\u001b[0m\n",
            "\u001b[0;32m/usr/local/lib/python3.6/dist-packages/torch/tensor.py\u001b[0m in \u001b[0;36mbackward\u001b[0;34m(self, gradient, retain_graph, create_graph)\u001b[0m\n\u001b[1;32m    193\u001b[0m                 \u001b[0mproducts\u001b[0m\u001b[0;34m.\u001b[0m \u001b[0mDefaults\u001b[0m \u001b[0mto\u001b[0m\u001b[0;31m \u001b[0m\u001b[0;31m`\u001b[0m\u001b[0;31m`\u001b[0m\u001b[0;32mFalse\u001b[0m\u001b[0;31m`\u001b[0m\u001b[0;31m`\u001b[0m\u001b[0;34m.\u001b[0m\u001b[0;34m\u001b[0m\u001b[0;34m\u001b[0m\u001b[0m\n\u001b[1;32m    194\u001b[0m         \"\"\"\n\u001b[0;32m--> 195\u001b[0;31m         \u001b[0mtorch\u001b[0m\u001b[0;34m.\u001b[0m\u001b[0mautograd\u001b[0m\u001b[0;34m.\u001b[0m\u001b[0mbackward\u001b[0m\u001b[0;34m(\u001b[0m\u001b[0mself\u001b[0m\u001b[0;34m,\u001b[0m \u001b[0mgradient\u001b[0m\u001b[0;34m,\u001b[0m \u001b[0mretain_graph\u001b[0m\u001b[0;34m,\u001b[0m \u001b[0mcreate_graph\u001b[0m\u001b[0;34m)\u001b[0m\u001b[0;34m\u001b[0m\u001b[0;34m\u001b[0m\u001b[0m\n\u001b[0m\u001b[1;32m    196\u001b[0m \u001b[0;34m\u001b[0m\u001b[0m\n\u001b[1;32m    197\u001b[0m     \u001b[0;32mdef\u001b[0m \u001b[0mregister_hook\u001b[0m\u001b[0;34m(\u001b[0m\u001b[0mself\u001b[0m\u001b[0;34m,\u001b[0m \u001b[0mhook\u001b[0m\u001b[0;34m)\u001b[0m\u001b[0;34m:\u001b[0m\u001b[0;34m\u001b[0m\u001b[0;34m\u001b[0m\u001b[0m\n",
            "\u001b[0;32m/usr/local/lib/python3.6/dist-packages/torch/autograd/__init__.py\u001b[0m in \u001b[0;36mbackward\u001b[0;34m(tensors, grad_tensors, retain_graph, create_graph, grad_variables)\u001b[0m\n\u001b[1;32m     97\u001b[0m     Variable._execution_engine.run_backward(\n\u001b[1;32m     98\u001b[0m         \u001b[0mtensors\u001b[0m\u001b[0;34m,\u001b[0m \u001b[0mgrad_tensors\u001b[0m\u001b[0;34m,\u001b[0m \u001b[0mretain_graph\u001b[0m\u001b[0;34m,\u001b[0m \u001b[0mcreate_graph\u001b[0m\u001b[0;34m,\u001b[0m\u001b[0;34m\u001b[0m\u001b[0;34m\u001b[0m\u001b[0m\n\u001b[0;32m---> 99\u001b[0;31m         allow_unreachable=True)  # allow_unreachable flag\n\u001b[0m\u001b[1;32m    100\u001b[0m \u001b[0;34m\u001b[0m\u001b[0m\n\u001b[1;32m    101\u001b[0m \u001b[0;34m\u001b[0m\u001b[0m\n",
            "\u001b[0;31mKeyboardInterrupt\u001b[0m: "
          ]
        }
      ]
    },
    {
      "cell_type": "code",
      "metadata": {
        "id": "PkK49p4dA-ZV",
        "colab_type": "code",
        "colab": {}
      },
      "source": [
        "# EFFICIENCY (Benchmarks 160220):\n",
        "\n",
        "# n.b. don't use time.time() to measure <1s time intervals (e.g. minibatch processing time), its imprecise.\n",
        "\n",
        "# epoch rate (min/epoch):\n",
        "# Reduced dataset - 0.18 min/epoch (for all epochs, regardless of s/img rate)\n",
        "# Reduced dataset (80 img/epoch): 0.18 min/epoch / 80 img/epoch = 0.0225 min/img = 0.135s/img = 7.4 img/s\n",
        "# Full dataset (20000 img/epoch): 45 min/epoch / 20000 img/epoch = 0.0225 min/img = 0.135s/img = 7.4 img/s\n",
        "\n"
      ],
      "execution_count": 0,
      "outputs": []
    },
    {
      "cell_type": "markdown",
      "metadata": {
        "id": "iZDUjw3h5Vhy",
        "colab_type": "text"
      },
      "source": [
        "# Efficiency comparison\n",
        "Colab card is Tesla K80. It's about 1/4 speed of 1080Ti. Our network is based on VGG-8 architecture\n",
        "\n",
        "*   Ideally, we should expect about 1/4 of 1080Ti performance according to this chart (~35 img/s).\n",
        "*   That's in the same order of magnitude as our 7.4 img/s (given extra work our colorizer does).\n",
        "\n",
        "\n",
        "\n",
        "![alt text](https://drive.google.com/uc?id=1hqUchChMx-lY_LsYMOBlppRHkupSUiK9)\n",
        "\n",
        "Training duration and scope\n",
        "*  VGG-16 was trained on ImageNet subset with ~1000img x 1000 categories = 1 000 000 images.\n",
        "*   List item\n",
        "\n"
      ]
    },
    {
      "cell_type": "markdown",
      "metadata": {
        "id": "rv8UtoVpBMro",
        "colab_type": "text"
      },
      "source": [
        "#Displaying trained Colorizer results"
      ]
    },
    {
      "cell_type": "code",
      "metadata": {
        "id": "hQkJdwtMBQPk",
        "colab_type": "code",
        "colab": {}
      },
      "source": [
        "# Test with random image from end of dataset\n",
        "from random import seed\n",
        "from random import randint\n",
        "\n",
        "dataiter_test = iter(testloader)\n",
        "img = dataiter_test.next().cuda()\n",
        "l = img[0:1:,0:1,:,:]\n",
        "ab = img[0:1:,1:,:,:]\n",
        "z_hat = net(l)\n",
        "ab_hat = H(z_hat)\n",
        "ab_hat = ab_hat.permute(2,0,1).unsqueeze(0)\n",
        "ab_hat_256 = F.interpolate(ab_hat, (256, 256))\n",
        "img_rgb = reconstruct_predicted(l.cpu(), ab_hat_256.detach().cpu())\n",
        "plt.imshow(img_rgb)"
      ],
      "execution_count": 0,
      "outputs": []
    },
    {
      "cell_type": "markdown",
      "metadata": {
        "id": "wq71bazedz8i",
        "colab_type": "text"
      },
      "source": [
        "# Debug"
      ]
    },
    {
      "cell_type": "code",
      "metadata": {
        "colab_type": "code",
        "id": "Zyec3qAMqN_6",
        "colab": {}
      },
      "source": [
        "# Load losses file\n",
        "losses = torch.load(path_checkpoint + \"checkpoint_losses_{}_{}.pth\".format(0, 1))\n",
        "load_epoch = 0\n",
        "\n",
        "# Display losses in subplots split by segment\n",
        "# Bug: if you don't set bias to False it will instantiate to random number (contents at the location of memory)\n",
        "# Thus result will be offset by random amount!\n",
        "window_size = 1\n",
        "conv = nn.Conv1d(1, 1, kernel_size = window_size, bias=False)\n",
        "kernel_weights = np.array([1.0 for i in range(window_size)])/window_size\n",
        "conv.weight.data = torch.FloatTensor(kernel_weights).view(1, 1, window_size)\n",
        "segment_length = 313\n",
        "\n",
        "losses1 = torch.tensor(losses).unsqueeze(0).unsqueeze(0)\n",
        "losses1 = conv(losses1)  # apply running mean\n",
        "losses1 = losses1.squeeze(0).squeeze(0)\n",
        "losses_segments1 = torch.split(losses1, segment_length)\n",
        "\n",
        "subplots = []\n",
        "n_cols = 2\n",
        "n_rows = (len(losses_segments1) / n_cols) + 1\n",
        "\n",
        "fig = plt.figure(num=None, figsize=(20, 15), dpi=80, facecolor='w', edgecolor='k')\n",
        "for i, segment_loss in enumerate(losses_segments1, 1):\n",
        "    epoch_idx = load_epoch + i\n",
        "    segment_loss = segment_loss.detach()\n",
        "    ax = plt.subplot(n_rows, n_cols, i)\n",
        "    plt.plot(segment_loss.clone().numpy())\n",
        "    plt.plot([2.9 for i in range(segment_length)])\n",
        "    ax.title.set_text('Epoch {}'.format(epoch_idx))\n",
        "\n",
        "fig.show()\n",
        "fig.savefig(path_debug + \"losses_till_epoch_{}\".format(epoch))"
      ],
      "execution_count": 0,
      "outputs": []
    },
    {
      "cell_type": "code",
      "metadata": {
        "id": "oyvRsfKjrBTG",
        "colab_type": "code",
        "colab": {}
      },
      "source": [
        "# # Check cuda memory usage\n",
        "# torch.cuda.empty_cache() # only empties memory not in use by tensor\n",
        "# with open(path_debug + \"cuda_report.txt\", \"w\") as  f:\n",
        "#   f.write(torch.cuda.memory_summary())"
      ],
      "execution_count": 0,
      "outputs": []
    },
    {
      "cell_type": "code",
      "metadata": {
        "id": "obWfrJJPbYS5",
        "colab_type": "code",
        "colab": {}
      },
      "source": [
        "# # Calculate image seek time\n",
        "# start = time.time()\n",
        "# for i in range(int(int(lval.shape[0]/2) / minibatch_size)):\n",
        "#     training_dataset[i]\n",
        "# stop = time.time()\n",
        "# print(\"{} image seeks took {}s.\".format(int(lval.shape[0]/2), stop - start))  # 0.025s, much better than using skimage.resize()"
      ],
      "execution_count": 0,
      "outputs": []
    },
    {
      "cell_type": "markdown",
      "metadata": {
        "id": "-n76K40wDA_x",
        "colab_type": "text"
      },
      "source": [
        "# TODO"
      ]
    },
    {
      "cell_type": "code",
      "metadata": {
        "id": "W_vITHxmD7uS",
        "colab_type": "code",
        "colab": {}
      },
      "source": [
        "# Why is optim after loading so small (800bytes etc)\n",
        "#    - Test: run from init (~200mb), stop, load from file --> ~ ~200mb, OK!\n",
        "# TODO: add v(.) coefficient to the loss function (color rarity rebalancing term)\n",
        "# TODO: optimal minibatch size? Passing minibatch of 32 images to the network? Does not seem to be faster, but sometimes it does.\n",
        "# TODO: batch norm in beginning of NN required? Effect?\n",
        "# TODO: did the colorize quality improve after I was experimenting with removing update/render? And now it just got worse (red red red --> grayscale) I saw various colors then.\n",
        "#     - Am I in a local minimums every time and had a lucky initialization?\n",
        "# TODO: should I find better init weights?\n",
        "# TODO: z getting out of range. I should cap the possible values of the output somehow."
      ],
      "execution_count": 0,
      "outputs": []
    },
    {
      "cell_type": "markdown",
      "metadata": {
        "id": "2O-jaE0phXcF",
        "colab_type": "text"
      },
      "source": [
        "# QUESTIONS"
      ]
    },
    {
      "cell_type": "code",
      "metadata": {
        "id": "bOyNEUGVhZ4G",
        "colab_type": "code",
        "colab": {}
      },
      "source": [
        "# 1. If you fit model on 10 pictures, can you fit worse on those 10 pictures taken alone than when training on 100 pictures? That is, can I underfit by having a limited training data?\n",
        "# 2. Does loss size matter to training? Do I need larger learning rate if my loss size is small?\n",
        "# 3. What fixed my model? Most likely dataset fixes, but why?\n",
        "# 4. What would poor quality dataset (some grayscales, low contrast) affect the training - possible optimal loss? training rate? What other parameters may affect the training rate."
      ],
      "execution_count": 0,
      "outputs": []
    },
    {
      "cell_type": "markdown",
      "metadata": {
        "id": "0MSDjUet0oFP",
        "colab_type": "text"
      },
      "source": [
        "# NOTES"
      ]
    },
    {
      "cell_type": "code",
      "metadata": {
        "id": "YtTP3kQh0qib",
        "colab_type": "code",
        "colab": {}
      },
      "source": [
        "# TODO Dataloader errors. See https://pytorch.org/docs/stable/data.html for Windows error under Platform specific behaviors."
      ],
      "execution_count": 0,
      "outputs": []
    },
    {
      "cell_type": "markdown",
      "metadata": {
        "id": "P9iAiqacffpS",
        "colab_type": "text"
      },
      "source": [
        "# TODO debug\n"
      ]
    },
    {
      "cell_type": "code",
      "metadata": {
        "id": "Ee2U4zHgfjYQ",
        "colab_type": "code",
        "colab": {}
      },
      "source": [
        "# 1. Conceptual problems:\n",
        "#   - Gaussian Kernel application in h_inverse.\n",
        "#   - converting between distances to bins and probabilities.\n",
        "# 2. Implementation problems (need unit tests)\n",
        "#   - h_inverse, \n",
        "#   - h_inverse_top5, h_inverse_top5_optim\n",
        "# 3. Not yet implemented - v() weights."
      ],
      "execution_count": 0,
      "outputs": []
    }
  ]
}